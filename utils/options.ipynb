{
  "cells": [
    {
      "attachments": {},
      "cell_type": "markdown",
      "id": "f3f09c1b",
      "metadata": {},
      "source": [
        "# Hyperparameter options\n",
        "\n",
        "## Overview\n",
        "\n",
        "This program includes the various hyperparameter settings for the models."
      ]
    },
    {
      "cell_type": "code",
      "execution_count": null,
      "id": "f64014ff",
      "metadata": {
        "id": "f64014ff"
      },
      "outputs": [],
      "source": [
        "import argparse\n",
        "import sys"
      ]
    },
    {
      "cell_type": "code",
      "execution_count": null,
      "id": "b25003bd",
      "metadata": {
        "id": "b25003bd"
      },
      "outputs": [],
      "source": [
        "parser = argparse.ArgumentParser()\n",
        "parser.add_argument('--MODEL_DIR', type=str, default='./models')\n",
        "parser.add_argument('--DATA_DIR', type=str, default='./data')\n",
        "parser.add_argument('--MIMIC_3_DIR', type=str, default='./data/mimic3')\n",
        "parser.add_argument('--MIMIC_2_DIR', type=str, default='./data/mimic2')\n",
        "\n",
        "parser.add_argument(\"--data_path\", type=str,\n",
        "                    default='./data/mimic3/train_50.csv')\n",
        "parser.add_argument(\"--vocab\", type=str, default='./data/mimic3/vocab.csv')\n",
        "parser.add_argument(\"--Y\", type=str, default='50', choices=['full', '50'])\n",
        "parser.add_argument(\"--version\", type=str,\n",
        "                    choices=['mimic2', 'mimic3'], default='mimic3')\n",
        "parser.add_argument(\"--MAX_LENGTH\", type=int, default=4096)"
      ]
    },
    {
      "attachments": {},
      "cell_type": "markdown",
      "id": "fd01a226",
      "metadata": {},
      "source": [
        "### Encoder - Decoder model selection"
      ]
    },
    {
      "cell_type": "code",
      "execution_count": null,
      "id": "34395c87",
      "metadata": {
        "id": "34395c87"
      },
      "outputs": [],
      "source": [
        "parser.add_argument(\"--model\", type=str, choices=[\n",
        "                    'MultiResCNN', 'longformer', 'RACReader', 'LAAT'], default='LAAT')\n",
        "parser.add_argument(\"--decoder\", type=str, choices=['HierarchicalHyperbolic', 'Hierarchical', 'LAATHierarchicalHyperbolic', 'LAATHierarchical',\n",
        "                                                   'CodeTitle', 'RandomlyInitialized', 'LAATDecoder'], default='LAATHierarchicalHyperbolic')\n",
        "parser.add_argument(\"--filter_size\", type=str, default=\"3,5,9,15,19,25\",\n",
        "                    help=\"Conv layer filter size for MultiResCNN and RAC model. For MultiResCNN, this is a list of integers seperated by comma; for RAC, this is a single integer number\")\n",
        "parser.add_argument(\"--num_filter_maps\", type=int, default=50)\n",
        "parser.add_argument(\"--conv_layer\", type=int, default=1)\n",
        "parser.add_argument(\"--embed_file\", type=str,\n",
        "                    default='./data/mimic3/processed_full_100.embed')\n",
        "parser.add_argument(\"--hyperbolic_dim\", type=int, default=50)\n",
        "parser.add_argument(\"--test_model\", type=str, default=None)\n",
        "parser.add_argument(\"--use_ext_emb\", action=\"store_const\",\n",
        "                    const=True, default=False)\n",
        "parser.add_argument('--cat_hyperbolic', action=\"store_const\",\n",
        "                    const=True, default=False)\n",
        "parser.add_argument(\"--loss\", type=str, choices=['BCE', 'ASL', 'ASLO'], default='BCE')\n",
        "parser.add_argument(\"--asl_config\", type=str, default='0,0,0')\n",
        "parser.add_argument(\"--asl_reduction\", type=str, choices=['mean', 'sum'], default='sum')\n"
      ]
    },
    {
      "attachments": {},
      "cell_type": "markdown",
      "id": "0482e4e0",
      "metadata": {},
      "source": [
        "### Training the model"
      ]
    },
    {
      "cell_type": "code",
      "execution_count": null,
      "id": "81d88624",
      "metadata": {
        "id": "81d88624"
      },
      "outputs": [],
      "source": [
        "parser.add_argument(\"--n_epochs\", type=str, default=\"2,3,5,10,500\")\n",
        "parser.add_argument(\"--depth\", type=int, default=5)\n",
        "parser.add_argument(\"--dropout\", type=float, default=0.2)\n",
        "parser.add_argument(\"--patience\", type=int, default=10)\n",
        "parser.add_argument(\"--batch_size\", type=int, default=16)\n",
        "parser.add_argument(\"--lr\", type=float, default=1e-4)\n",
        "parser.add_argument(\"--weight_decay\", type=float, default=0)\n",
        "parser.add_argument(\"--criterion\", type=str, default='prec_at_8',\n",
        "                    choices=['prec_at_8', 'f1_micro', 'prec_at_5'])\n",
        "parser.add_argument(\"--gpu\", type=str, default='0',\n",
        "                    help='-1 if not using gpu, use comma to separate multiple gpus')\n",
        "parser.add_argument(\"--num_workers\", type=int, default=16)\n",
        "parser.add_argument(\"--tune_wordemb\", action=\"store_const\",\n",
        "                    const=True, default=True)\n",
        "parser.add_argument('--random_seed', type=int, default=1,\n",
        "                    help='0 if randomly initialize the model, other if fix the seed')\n",
        "\n",
        "parser.add_argument(\"--thres\", type=float, default=0.5)\n"
      ]
    },
    {
      "attachments": {},
      "cell_type": "markdown",
      "id": "f1afecee",
      "metadata": {},
      "source": [
        "### Longformer"
      ]
    },
    {
      "cell_type": "code",
      "execution_count": null,
      "id": "267028b0",
      "metadata": {
        "id": "267028b0"
      },
      "outputs": [],
      "source": [
        "# longformer\n",
        "parser.add_argument(\"--longformer_dir\", type=str, default='')\n"
      ]
    },
    {
      "attachments": {},
      "cell_type": "markdown",
      "id": "4d9835b9",
      "metadata": {},
      "source": [
        "### RAC encoder - decoder"
      ]
    },
    {
      "cell_type": "code",
      "execution_count": null,
      "id": "7decf327",
      "metadata": {
        "id": "7decf327"
      },
      "outputs": [],
      "source": [
        "# RAC encoder\n",
        "parser.add_argument(\"--reader_conv_num\", type=int, default=2)\n",
        "parser.add_argument(\"--reader_trans_num\", type=int, default=4)\n",
        "parser.add_argument(\"--trans_ff_dim\", type=int, default=1024)\n",
        "\n",
        "# RAC decoder\n",
        "parser.add_argument(\"--num_code_title_tokens\", type=int, default=36)\n",
        "parser.add_argument(\"--code_title_filter_size\", type=int, default=9)\n"
      ]
    },
    {
      "attachments": {},
      "cell_type": "markdown",
      "id": "1cebd516",
      "metadata": {},
      "source": [
        "### LAAT "
      ]
    },
    {
      "cell_type": "code",
      "execution_count": null,
      "id": "28cd02ad",
      "metadata": {
        "id": "28cd02ad"
      },
      "outputs": [],
      "source": [
        "# LAAT\n",
        "parser.add_argument(\"--lstm_hidden_dim\", type=int, default=512)\n",
        "parser.add_argument(\"--attn_dim\", type=int, default=512)\n",
        "parser.add_argument(\"--scheduler\", type=float, default=0.9)\n",
        "parser.add_argument(\"--scheduler_patience\", type=int, default=5)\n",
        "\n",
        "args = parser.parse_args()\n",
        "command = ' '.join(['python'] + sys.argv)\n",
        "args.command = command\n"
      ]
    },
    {
      "attachments": {},
      "cell_type": "markdown",
      "id": "cdebd2f6",
      "metadata": {},
      "source": [
        "### GPU Settings"
      ]
    },
    {
      "cell_type": "code",
      "execution_count": null,
      "id": "43390382",
      "metadata": {
        "id": "43390382"
      },
      "outputs": [],
      "source": [
        "# gpu settings\n",
        "args.gpu_list = [int(idx) for idx in args.gpu.split(',')]\n",
        "args.gpu_list = [i for i in range(\n",
        "    len(args.gpu_list))] if args.gpu_list[0] >= 0 else [-1]\n"
      ]
    }
  ],
  "metadata": {
    "colab": {
      "provenance": []
    },
    "kernelspec": {
      "display_name": "Python 3 (ipykernel)",
      "language": "python",
      "name": "python3"
    },
    "language_info": {
      "codemirror_mode": {
        "name": "ipython",
        "version": 3
      },
      "file_extension": ".py",
      "mimetype": "text/x-python",
      "name": "python",
      "nbconvert_exporter": "python",
      "pygments_lexer": "ipython3",
      "version": "3.9.13"
    }
  },
  "nbformat": 4,
  "nbformat_minor": 5
}
