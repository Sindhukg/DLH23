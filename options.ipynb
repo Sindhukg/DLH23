{
 "cells": [
  {
   "attachments": {},
   "cell_type": "markdown",
   "metadata": {
    "deletable": false,
    "editable": false,
    "nbgrader": {
     "cell_type": "markdown",
     "checksum": "4f64a7c4aa8c138f2a216c055f299fb9",
     "grade": false,
     "grade_id": "cell-757f7449dc485bc3",
     "locked": true,
     "schema_version": 3,
     "solution": false,
     "task": false
    }
   },
   "source": [
    "# Hyperparameter Options:\n",
    "\n",
    "## Overview"
   ]
  },
  {
   "cell_type": "code",
   "execution_count": 1,
   "metadata": {
    "ExecuteTime": {
     "end_time": "2022-02-01T22:26:33.533696Z",
     "start_time": "2022-02-01T22:26:33.525609Z"
    },
    "deletable": false,
    "editable": false,
    "nbgrader": {
     "cell_type": "code",
     "checksum": "17cd37dbc82c1a46157ec9adb81a3844",
     "grade": false,
     "grade_id": "cell-10db081f94b98d02",
     "locked": true,
     "schema_version": 3,
     "solution": false,
     "task": false
    }
   },
   "outputs": [],
   "source": [
    "import argparse\n",
    "import sys"
   ]
  },
  {
   "cell_type": "code",
   "execution_count": 3,
   "metadata": {
    "ExecuteTime": {
     "end_time": "2022-02-01T22:26:34.088515Z",
     "start_time": "2022-02-01T22:26:33.664247Z"
    },
    "deletable": false
   },
   "outputs": [],
   "source": [
    "parser = argparse.ArgumentParser()\n",
    "parser.add_argument('--MODEL_DIR', type=str, default='./models')\n",
    "parser.add_argument('--DATA_DIR', type=str, default='./data')\n",
    "parser.add_argument('--MIMIC_3_DIR', type=str, default='./data/mimic3')\n",
    "parser.add_argument('--MIMIC_2_DIR', type=str, default='./data/mimic2')\n",
    "\n",
    "parser.add_argument(\"--data_path\", type=str,\n",
    "                    default='./data/mimic3/train_50.csv')\n",
    "parser.add_argument(\"--vocab\", type=str, default='./data/mimic3/vocab.csv')\n",
    "parser.add_argument(\"--Y\", type=str, default='50', choices=['full', '50'])\n",
    "parser.add_argument(\"--version\", type=str,\n",
    "                    choices=['mimic2', 'mimic3'], default='mimic3')\n",
    "parser.add_argument(\"--MAX_LENGTH\", type=int, default=4096)"
   ]
  },
  {
   "cell_type": "code",
   "execution_count": 4,
   "metadata": {
    "ExecuteTime": {
     "end_time": "2022-02-01T22:26:34.576740Z",
     "start_time": "2022-02-01T22:26:34.091155Z"
    },
    "deletable": false,
    "editable": false,
    "nbgrader": {
     "cell_type": "code",
     "checksum": "9e7427796cf3b4d5a493bd096d082ac9",
     "grade": false,
     "grade_id": "cell-d28045e592b8f081",
     "locked": true,
     "schema_version": 3,
     "solution": false,
     "task": false
    },
    "scrolled": true
   },
   "outputs": [],
   "source": [
    "# model\n",
    "\n",
    "parser.add_argument(\"--model\", type=str, choices=[\n",
    "                    'MultiResCNN', 'longformer', 'RACReader', 'LAAT'], default='LAAT')\n",
    "parser.add_argument(\"--decoder\", type=str, choices=['HierarchicalHyperbolic', 'Hierarchical', 'LAATHierarchicalHyperbolic', 'LAATHierarchical',\n",
    "                                                   'CodeTitle', 'RandomlyInitialized', 'LAATDecoder'], default='LAATHierarchicalHyperbolic')\n",
    "parser.add_argument(\"--filter_size\", type=str, default=\"3,5,9,15,19,25\",\n",
    "                    help=\"Conv layer filter size for MultiResCNN and RAC model. For MultiResCNN, this is a list of integers seperated by comma; for RAC, this is a single integer number\")\n",
    "parser.add_argument(\"--num_filter_maps\", type=int, default=50)\n",
    "parser.add_argument(\"--conv_layer\", type=int, default=1)\n",
    "parser.add_argument(\"--embed_file\", type=str,\n",
    "                    default='./data/mimic3/processed_full_100.embed')\n",
    "parser.add_argument(\"--hyperbolic_dim\", type=int, default=50)\n",
    "parser.add_argument(\"--test_model\", type=str, default=None)\n",
    "parser.add_argument(\"--use_ext_emb\", action=\"store_const\",\n",
    "                    const=True, default=False)\n",
    "parser.add_argument('--cat_hyperbolic', action=\"store_const\",\n",
    "                    const=True, default=False)\n",
    "parser.add_argument(\"--loss\", type=str, choices=['BCE', 'ASL', 'ASLO'], default='BCE')\n",
    "parser.add_argument(\"--asl_config\", type=str, default='0,0,0')\n",
    "parser.add_argument(\"--asl_reduction\", type=str, choices=['mean', 'sum'], default='sum')\n"
   ]
  },
  {
   "cell_type": "code",
   "execution_count": 5,
   "metadata": {
    "ExecuteTime": {
     "end_time": "2022-02-01T22:26:34.861688Z",
     "start_time": "2022-02-01T22:26:34.578395Z"
    },
    "deletable": false,
    "editable": false,
    "nbgrader": {
     "cell_type": "code",
     "checksum": "6d140e954c3a28d1e5479935f3ef713e",
     "grade": true,
     "grade_id": "cell-8f9c85ba731d96e5",
     "locked": true,
     "points": 10,
     "schema_version": 3,
     "solution": false,
     "task": false
    }
   },
   "outputs": [],
   "source": [
    "# training\n",
    "\n",
    "parser.add_argument(\"--n_epochs\", type=str, default=\"2,3,5,10,500\")\n",
    "parser.add_argument(\"--depth\", type=int, default=5)\n",
    "parser.add_argument(\"--dropout\", type=float, default=0.2)\n",
    "parser.add_argument(\"--patience\", type=int, default=10)\n",
    "parser.add_argument(\"--batch_size\", type=int, default=16)\n",
    "parser.add_argument(\"--lr\", type=float, default=1e-4)\n",
    "parser.add_argument(\"--weight_decay\", type=float, default=0)\n",
    "parser.add_argument(\"--criterion\", type=str, default='prec_at_8',\n",
    "                    choices=['prec_at_8', 'f1_micro', 'prec_at_5'])\n",
    "parser.add_argument(\"--gpu\", type=str, default='0',\n",
    "                    help='-1 if not using gpu, use comma to separate multiple gpus')\n",
    "parser.add_argument(\"--num_workers\", type=int, default=16)\n",
    "parser.add_argument(\"--tune_wordemb\", action=\"store_const\",\n",
    "                    const=True, default=True)\n",
    "parser.add_argument('--random_seed', type=int, default=1,\n",
    "                    help='0 if randomly initialize the model, other if fix the seed')\n",
    "\n",
    "parser.add_argument(\"--thres\", type=float, default=0.5)\n"
   ]
  },
  {
   "cell_type": "code",
   "execution_count": 6,
   "metadata": {
    "ExecuteTime": {
     "end_time": "2022-02-01T22:26:35.347882Z",
     "start_time": "2022-02-01T22:26:34.863302Z"
    },
    "deletable": false,
    "editable": false,
    "nbgrader": {
     "cell_type": "code",
     "checksum": "557341b6198f8525680acb1753cbbdbf",
     "grade": true,
     "grade_id": "cell-343b745247b90367",
     "locked": true,
     "points": 10,
     "schema_version": 3,
     "solution": false,
     "task": false
    }
   },
   "outputs": [],
   "source": [
    "# longformer\n",
    "parser.add_argument(\"--longformer_dir\", type=str, default='')\n"
   ]
  },
  {
   "cell_type": "code",
   "execution_count": 7,
   "metadata": {
    "ExecuteTime": {
     "end_time": "2022-02-01T22:26:35.354173Z",
     "start_time": "2022-02-01T22:26:35.349131Z"
    },
    "deletable": false
   },
   "outputs": [],
   "source": [
    "# RAC encoder\n",
    "parser.add_argument(\"--reader_conv_num\", type=int, default=2)\n",
    "parser.add_argument(\"--reader_trans_num\", type=int, default=4)\n",
    "parser.add_argument(\"--trans_ff_dim\", type=int, default=1024)\n",
    "\n",
    "# RAC decoder\n",
    "parser.add_argument(\"--num_code_title_tokens\", type=int, default=36)\n",
    "parser.add_argument(\"--code_title_filter_size\", type=int, default=9)\n"
   ]
  },
  {
   "cell_type": "code",
   "execution_count": 8,
   "metadata": {
    "ExecuteTime": {
     "end_time": "2022-02-01T22:26:35.639049Z",
     "start_time": "2022-02-01T22:26:35.355685Z"
    },
    "deletable": false,
    "editable": false,
    "nbgrader": {
     "cell_type": "code",
     "checksum": "12811f08d77cb33b2b8821e3da47d7c9",
     "grade": true,
     "grade_id": "cell-7207b1c9d6f08a03",
     "locked": true,
     "points": 10,
     "schema_version": 3,
     "solution": false,
     "task": false
    }
   },
   "outputs": [],
   "source": [
    "# LAAT\n",
    "parser.add_argument(\"--lstm_hidden_dim\", type=int, default=512)\n",
    "parser.add_argument(\"--attn_dim\", type=int, default=512)\n",
    "parser.add_argument(\"--scheduler\", type=float, default=0.9)\n",
    "parser.add_argument(\"--scheduler_patience\", type=int, default=5)\n",
    "\n",
    "args = parser.parse_args()\n",
    "command = ' '.join(['python'] + sys.argv)\n",
    "args.command = command\n"
   ]
  },
  {
   "cell_type": "code",
   "execution_count": 9,
   "metadata": {
    "ExecuteTime": {
     "end_time": "2022-02-01T22:26:35.646122Z",
     "start_time": "2022-02-01T22:26:35.641061Z"
    },
    "deletable": false
   },
   "outputs": [],
   "source": [
    "# gpu settings\n",
    "args.gpu_list = [int(idx) for idx in args.gpu.split(',')]\n",
    "args.gpu_list = [i for i in range(\n",
    "    len(args.gpu_list))] if args.gpu_list[0] >= 0 else [-1]\n"
   ]
  }
 ],
 "metadata": {
  "illinois_payload": {
   "b64z": "",
   "nb_path": "release/HW1/HW1.ipynb"
  },
  "kernelspec": {
   "display_name": "Python 3 (Threads: 2)",
   "language": "python",
   "name": "python3"
  },
  "language_info": {
   "codemirror_mode": {
    "name": "ipython",
    "version": 3
   },
   "file_extension": ".py",
   "mimetype": "text/x-python",
   "name": "python",
   "nbconvert_exporter": "python",
   "pygments_lexer": "ipython3",
   "version": "3.8.15"
  },
  "toc": {
   "base_numbering": 1,
   "nav_menu": {},
   "number_sections": false,
   "sideBar": true,
   "skip_h1_title": true,
   "title_cell": "Table of Contents",
   "title_sidebar": "Contents",
   "toc_cell": false,
   "toc_position": {
    "height": "832px",
    "left": "419px",
    "top": "110px",
    "width": "311.390625px"
   },
   "toc_section_display": true,
   "toc_window_display": true
  },
  "varInspector": {
   "cols": {
    "lenName": 16,
    "lenType": 16,
    "lenVar": 40
   },
   "kernels_config": {
    "python": {
     "delete_cmd_postfix": "",
     "delete_cmd_prefix": "del ",
     "library": "var_list.py",
     "varRefreshCmd": "print(var_dic_list())"
    },
    "r": {
     "delete_cmd_postfix": ") ",
     "delete_cmd_prefix": "rm(",
     "library": "var_list.r",
     "varRefreshCmd": "cat(var_dic_list()) "
    }
   },
   "types_to_exclude": [
    "module",
    "function",
    "builtin_function_or_method",
    "instance",
    "_Feature"
   ],
   "window_display": false
  }
 },
 "nbformat": 4,
 "nbformat_minor": 2
}
