{
 "cells": [
  {
   "cell_type": "markdown",
   "id": "10b570f2",
   "metadata": {},
   "source": [
    "# Summary\n",
    "We are able to reproduce the paper and the results as well. The code worked with slight modifications needed for GCP environment. We tried two additional experiments in addition to reproducing the results as is.\n",
    "We tried to run the model without leveraging the hierarchy (leveraging hierarchy is core in this paper) and saw the performance drop. Clearly leveraging hierarchy improves the performance and gives better results. It's evident from the results that the model performance is good when we exploit the hierarchy and train the model in various levels rather than flattening the  hierarchy.\n",
    "We also tried tweaking the BILSTM function in LAAT encoder model to just LSTM and the performance dipped. We didn't see a significant impact on the performance by limiting the model to forward direction only but there is a significant gain in run time.\n",
    "It’s evident from the results that the model performance is good when we exploit the hierarchy and train the model in various levels rather than flattening the hierarchy.\n",
    "Additional ablation we implemented is restricting the LSTM to only forward direction in LAAT encoder model. \n",
    "\n",
    "Reason we are trying this, from our understanding on LSTM and it's extension of bidirectional LSTM:\n",
    "1. To perform Bidirectional LSTM the entire sequence of data is needed which means it can be used only after clinical notes are completed. As per the paper we understand that you (the authors) envision HICU to be implemented in real time. We believe changing it to LSTM instead of Bidirectional LSTM will serve this purpose better.\n",
    "2. Performance improvement by setting bidirectional to false.\n",
    "\n",
    "Results suggest there is not much of impact on performance rather the time gained is significant."
   ]
  },
  {
   "cell_type": "markdown",
   "id": "befa38e7",
   "metadata": {},
   "source": [
    "# Data description\n",
    "\n",
    "The Medical Information Mart for Intensive Care III (MIMIC-III) dataset is a large, de-identified and publicly-available collection of medical records. Each record in the dataset includes ICD-9 codes, which identify diagnoses and procedures per- formed on patients. Data includes vital signs, med- ications, laboratory measurements, observations and notes charted by care providers, fluid balance, procedure codes, diagnostic codes, imaging reports, hospital length of stay, survival data, and more.\n",
    "\n",
    "MIMIC-III is a relational database consisting of 26 tables. Tables are linked by identifiers which\n",
    "usually have the suffix ‘ID’. For example, SUBJECT ID refers to a unique patient, and HADM ID refers to a unique admission to the hospital.\n",
    "\n",
    "There are 52,722 discharge summaries and 8,921 unique codes in this dataset. 50 codes are most frequent. There are 47,719 training discharge summaries, 1,631 validation summaries, and 3,372 testing summaries. For the top-50 code experiment, the subset of 11,317 discharge summaries was generated, consisting of 8,067 discharge summaries for training, 1,574 for validation, and 1,730 for testing"
   ]
  },
  {
   "cell_type": "code",
   "execution_count": 5,
   "id": "85343a41",
   "metadata": {},
   "outputs": [
    {
     "name": "stderr",
     "output_type": "stream",
     "text": [
      "/var/folders/sm/g_t4yz1x0zqg5tbh4m5ssx9m0000gn/T/ipykernel_4126/1695418330.py:2: DtypeWarning: Columns (4) have mixed types. Specify dtype option on import or set low_memory=False.\n",
      "  df = pd.read_csv('Downloads/ALL_CODES.csv')\n"
     ]
    }
   ],
   "source": [
    "import pandas as pd\n",
    "df = pd.read_csv('Downloads/ALL_CODES.csv')"
   ]
  },
  {
   "cell_type": "code",
   "execution_count": 7,
   "id": "01218f39",
   "metadata": {},
   "outputs": [
    {
     "data": {
      "text/plain": [
       "count     891095\n",
       "unique      9403\n",
       "top        401.9\n",
       "freq       20703\n",
       "Name: ICD9_CODE, dtype: object"
      ]
     },
     "execution_count": 7,
     "metadata": {},
     "output_type": "execute_result"
    }
   ],
   "source": [
    "df['ICD9_CODE'].describe()"
   ]
  },
  {
   "cell_type": "code",
   "execution_count": 8,
   "id": "302d8c45",
   "metadata": {},
   "outputs": [
    {
     "data": {
      "text/plain": [
       "count     848688\n",
       "unique      8921\n",
       "top        401.9\n",
       "freq       20053\n",
       "Name: ICD9_CODE, dtype: object"
      ]
     },
     "execution_count": 8,
     "metadata": {},
     "output_type": "execute_result"
    }
   ],
   "source": [
    "df = pd.read_csv('Downloads/ALL_CODES_filtered.csv')\n",
    "df['ICD9_CODE'].describe()"
   ]
  },
  {
   "cell_type": "markdown",
   "id": "c5d88eb5",
   "metadata": {},
   "source": [
    "In the above cells we are demonstrating the All codes.csv before and after pre-processing. In the pre-processing step we are filtering the codes present in the discharge summaries."
   ]
  },
  {
   "cell_type": "markdown",
   "id": "b523fb89",
   "metadata": {},
   "source": [
    "# Methodology\n",
    "\n",
    "An overview of Hicu Architecture: Clinical notes along with diagnosis and procedure codes are fed as inputs to an encoder where it’s being converted into feature map embeddings. These embeddings are then passed to a decoder to be classified into ICD codes.\n",
    "\n",
    "Encoder generally is a neural network to produce vector representations for words. It’s a process of mapping input data into feature vectors with semantic properties. In this paper three prior works are leveraged for the encoders.\n",
    "\n",
    "1. Bi-LSTM based on LAAT \n",
    "2. MultiResCNN\n",
    "3. RAC reader\n",
    "\n",
    "Decoder is an attention model, one per level and in the original paper, it’s called as (per-label). The core idea in this paper to leverage hierarchy is done here as each decoder learns labels pertaining to the level and transfers the knowledge to the next decoder (next level).\n",
    "\n",
    "# Experiments run\n",
    "\n",
    "1. Running the code as is. Leveraging the ICD code hierarcy\n",
    "2. Running the code with flattened hierarcy\n",
    "3. Running with LAAT encoder\n",
    "4. Running LAAT encoder with LSTM instead of Bi-LSTM\n",
    "\n",
    "Experiment 2 & 4 are additional as part of our ablation\n",
    "\n",
    "Note: We are not including the execution part as it didn't work on our local and it worked only in GCP"
   ]
  },
  {
   "cell_type": "markdown",
   "id": "f52ccebe",
   "metadata": {},
   "source": [
    "# Summary of key results\n",
    "\n",
    "Conclusions:\n",
    "\n",
    "1. Leveraging hierarchy providers better performance results (90% AUC and 0.42 accuracy with hierarchy whereas it's just 84% AUC and 0.24 accuracy)\n",
    "2. Using LSTM instead of BILSTM not much performance degrade is observed. But a significant gain in time was observed. (Accuracy reduced from 0.39 to 0.40 whereas time taken improved from 213 seconds to 149 seconds per epoch)\n",
    "\n",
    "Note: We have included all the results metrics in the report and not duplicating it here"
   ]
  },
  {
   "cell_type": "markdown",
   "id": "0f4ce27a",
   "metadata": {},
   "source": [
    "# References\n",
    "\n",
    "https://github.com/wren93/HiCu-ICD\n",
    "\n",
    "https://static1.squarespace.com/static/59d5ac1780bd5ef9c396eda6/t/62e975f3f2d3614634ef3d99/1659467253752/37+ICD_Coding___MLHC2022.pdf\n",
    "\n",
    "https://www.nature.com/articles/sdata201635#Fig1\n",
    "\n"
   ]
  },
  {
   "cell_type": "code",
   "execution_count": null,
   "id": "9f3d930a",
   "metadata": {},
   "outputs": [],
   "source": []
  }
 ],
 "metadata": {
  "kernelspec": {
   "display_name": "Python 3 (ipykernel)",
   "language": "python",
   "name": "python3"
  },
  "language_info": {
   "codemirror_mode": {
    "name": "ipython",
    "version": 3
   },
   "file_extension": ".py",
   "mimetype": "text/x-python",
   "name": "python",
   "nbconvert_exporter": "python",
   "pygments_lexer": "ipython3",
   "version": "3.9.13"
  }
 },
 "nbformat": 4,
 "nbformat_minor": 5
}
